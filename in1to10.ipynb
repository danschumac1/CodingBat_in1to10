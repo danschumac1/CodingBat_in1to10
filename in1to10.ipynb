{
 "cells": [
  {
   "cell_type": "markdown",
   "id": "060873ac",
   "metadata": {},
   "source": [
    "# Logic-1 > in1to10"
   ]
  },
  {
   "cell_type": "markdown",
   "id": "6bb5d9ee",
   "metadata": {},
   "source": [
    "\n",
    "Given a number n, return True if n is in the range 1..10, inclusive. Unless outside_mode is True, in which case return True if the number is less or equal to 1, or greater or equal to 10.\n",
    "\n",
    "\n",
    "in1to10(5, False) → True\n",
    "\n",
    "in1to10(11, False) → False\n",
    "\n",
    "in1to10(11, True) → True"
   ]
  },
  {
   "cell_type": "code",
   "execution_count": null,
   "id": "a596f7d6",
   "metadata": {},
   "outputs": [],
   "source": [
    "def in1to10(n, outside_mode):\n",
    "  \n",
    "  #looking outside range\n",
    "  if outside_mode:\n",
    "    if n in range(2,10):\n",
    "      return False\n",
    "    else:\n",
    "      return True\n",
    "    \n",
    "  #inside mode\n",
    "  else:\n",
    "    if n in range(1,11):\n",
    "      return True\n",
    "    else:\n",
    "      return False"
   ]
  }
 ],
 "metadata": {
  "kernelspec": {
   "display_name": "Python 3 (ipykernel)",
   "language": "python",
   "name": "python3"
  },
  "language_info": {
   "codemirror_mode": {
    "name": "ipython",
    "version": 3
   },
   "file_extension": ".py",
   "mimetype": "text/x-python",
   "name": "python",
   "nbconvert_exporter": "python",
   "pygments_lexer": "ipython3",
   "version": "3.9.12"
  }
 },
 "nbformat": 4,
 "nbformat_minor": 5
}
